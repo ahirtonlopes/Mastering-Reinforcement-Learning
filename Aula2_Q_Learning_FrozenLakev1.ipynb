{
  "nbformat": 4,
  "nbformat_minor": 0,
  "metadata": {
    "colab": {
      "provenance": [],
      "machine_shape": "hm",
      "gpuType": "L4"
    },
    "kernelspec": {
      "name": "python3",
      "display_name": "Python 3"
    },
    "accelerator": "GPU"
  },
  "cells": [
    {
      "cell_type": "markdown",
      "source": [
        "# Aula 2 - Reinforcement Learning\n",
        "\n",
        "## Tutorial: Q Learning no ambiente FrozenLake\n",
        "\n",
        "### Prof. Dr. Ahirton Lopes"
      ],
      "metadata": {
        "id": "9dudH0A8tzHW"
      }
    },
    {
      "metadata": {
        "id": "5aQKQMJTJBPH"
      },
      "cell_type": "markdown",
      "source": [
        "# Q* Learning com FrozenLake 4x4\n",
        "\n",
        "Neste Notebook, implementaremos um agente <b>que reproduz o desafio FrozenLake.</b>\n",
        "\n",
        "![texto alternativo](http://simoninithomas.com/drlc/Qlearning/frozenlake4x4.png)\n",
        "\n",
        "O objetivo deste jogo é <b>passar do estado inicial (S) para o estado objetivo (G)</b> andando apenas sobre peças congeladas (F) e evitando buracos (H). No entanto, o gelo é escorregadio, **então você nem sempre se moverá na direção pretendida (ambiente estocástico)**"
      ]
    },
    {
      "metadata": {
        "id": "QK8fD0zAQkkg"
      },
      "cell_type": "markdown",
      "source": [
        "## Pré-requisitos 🏗️\n",
        "\n",
        "Antes de mergulhar no notebook **você precisa entender**:\n",
        "- Os fundamentos da aprendizagem por reforço (MC, TD, hipótese de recompensas...)\n",
        "- Q-aprendizagem"
      ]
    },
    {
      "metadata": {
        "id": "54AIvDov_7aa"
      },
      "cell_type": "markdown",
      "source": [
        "## Etapa 1: Instalando as dependências no Google Colab"
      ]
    },
    {
      "metadata": {
        "id": "gxxpHDIs_lvg",
        "colab": {
          "base_uri": "https://localhost:8080/"
        },
        "outputId": "dd548b60-5ec8-4d3c-afb0-2563b5519b0c"
      },
      "cell_type": "code",
      "source": [
        "!pip install numpy\n",
        "!pip install gym"
      ],
      "execution_count": 9,
      "outputs": [
        {
          "output_type": "stream",
          "name": "stdout",
          "text": [
            "Requirement already satisfied: numpy in /usr/local/lib/python3.10/dist-packages (1.26.4)\n",
            "Requirement already satisfied: gym in /usr/local/lib/python3.10/dist-packages (0.25.2)\n",
            "Requirement already satisfied: numpy>=1.18.0 in /usr/local/lib/python3.10/dist-packages (from gym) (1.26.4)\n",
            "Requirement already satisfied: cloudpickle>=1.2.0 in /usr/local/lib/python3.10/dist-packages (from gym) (2.2.1)\n",
            "Requirement already satisfied: gym-notices>=0.0.4 in /usr/local/lib/python3.10/dist-packages (from gym) (0.0.8)\n"
          ]
        }
      ]
    },
    {
      "metadata": {
        "id": "G9qH33L_QoBk"
      },
      "cell_type": "markdown",
      "source": [
        "## Etapa 0: Importando as dependências 📚\n",
        "\n",
        "Usamos 3 bibliotecas:\n",
        "\n",
        "- `Numpy` para nosso Qtable\n",
        "- `OpenAI Gym` para nosso ambiente FrozenLake\n",
        "- `Random` para gerar números aleatórios"
      ]
    },
    {
      "metadata": {
        "id": "oU8zRXv8QHlm"
      },
      "cell_type": "code",
      "source": [
        "import numpy as np\n",
        "import gym\n",
        "import random"
      ],
      "execution_count": 10,
      "outputs": []
    },
    {
      "metadata": {
        "id": "0fz-X3HTQueX"
      },
      "cell_type": "markdown",
      "source": [
        "## Passo 1: Criando o ambiente 🎮\n",
        "\n",
        "- Aqui criaremos o ambiente FrozenLake 8x8.\n",
        "- OpenAI Gym é uma biblioteca <b> composta por diversos ambientes que podemos usar para treinar nossos agentes.</b>\n",
        "- No nosso caso optamos por usar Frozen Lake."
      ]
    },
    {
      "metadata": {
        "id": "mh9jBR_cQ5_a"
      },
      "cell_type": "code",
      "source": [
        "env = gym.make(\"FrozenLake-v1\")"
      ],
      "execution_count": 11,
      "outputs": []
    },
    {
      "metadata": {
        "id": "JEtXMldxQ7uw"
      },
      "cell_type": "markdown",
      "source": [
        "## Etapa 2: Criando a tabela Q e inicializando-a 🗄️\n",
        "\n",
        "- Agora, vamos criar nossa Q-table, para saber de quantas linhas (estados) e colunas (ações) precisamos, precisamos calcular o action_size e o state_size\n",
        "- OpenAI Gym nos fornece uma maneira de fazer isso: `env.action_space.n` e `env.observation_space.n`"
      ]
    },
    {
      "metadata": {
        "id": "Uc0xDVd_Q-C8"
      },
      "cell_type": "code",
      "source": [
        "action_size = env.action_space.n\n",
        "state_size = env.observation_space.n"
      ],
      "execution_count": 12,
      "outputs": []
    },
    {
      "metadata": {
        "id": "17XBPCecAsZG",
        "colab": {
          "base_uri": "https://localhost:8080/"
        },
        "outputId": "c2455358-07c5-4720-a0f0-52a051660f2d"
      },
      "cell_type": "code",
      "source": [
        "# Create our Q table with state_size rows and action_size columns (64x4)\n",
        "qtable = np.zeros((state_size, action_size))\n",
        "print(qtable)"
      ],
      "execution_count": 13,
      "outputs": [
        {
          "output_type": "stream",
          "name": "stdout",
          "text": [
            "[[0. 0. 0. 0.]\n",
            " [0. 0. 0. 0.]\n",
            " [0. 0. 0. 0.]\n",
            " [0. 0. 0. 0.]\n",
            " [0. 0. 0. 0.]\n",
            " [0. 0. 0. 0.]\n",
            " [0. 0. 0. 0.]\n",
            " [0. 0. 0. 0.]\n",
            " [0. 0. 0. 0.]\n",
            " [0. 0. 0. 0.]\n",
            " [0. 0. 0. 0.]\n",
            " [0. 0. 0. 0.]\n",
            " [0. 0. 0. 0.]\n",
            " [0. 0. 0. 0.]\n",
            " [0. 0. 0. 0.]\n",
            " [0. 0. 0. 0.]]\n"
          ]
        }
      ]
    },
    {
      "metadata": {
        "id": "WEGeWKKsAu7X"
      },
      "cell_type": "markdown",
      "source": [
        "## Etapa 3: Criando os hiperparâmetros ⚙️\n",
        "\n",
        "- Aqui, especificaremos os hiperparâmetros"
      ]
    },
    {
      "metadata": {
        "id": "FJhPxx7UAunE"
      },
      "cell_type": "code",
      "source": [
        "total_episodes = 500000       # Total episodes\n",
        "learning_rate = 0.7          # Learning rate\n",
        "max_steps = 99               # Max steps per episode\n",
        "gamma = 0.95                 # Discounting rate\n",
        "\n",
        "# Exploration parameters\n",
        "epsilon = 1.0                 # Exploration rate\n",
        "max_epsilon = 1.0             # Exploration probability at start\n",
        "min_epsilon = 0.01            # Minimum exploration probability\n",
        "decay_rate = 0.005            # Exponential decay rate for exploration prob"
      ],
      "execution_count": 14,
      "outputs": []
    },
    {
      "metadata": {
        "id": "rcdaN_DbA3ES"
      },
      "cell_type": "markdown",
      "source": [
        "## Etapa 4: O algoritmo de aprendizagem Q 🧠\n",
        "\n",
        "- Agora implementamos o algoritmo de aprendizagem Q:\n",
        "   ![texto alternativo](http://simoninithomas.com/drlc/Qlearning//qtable_algo.png)\n"
      ]
    },
    {
      "metadata": {
        "id": "5Dqqo_8LA5De",
        "colab": {
          "base_uri": "https://localhost:8080/"
        },
        "outputId": "9c176901-10d5-47bc-f6b2-0fd8d4beed93"
      },
      "cell_type": "code",
      "source": [
        "# List of rewards\n",
        "rewards = []\n",
        "\n",
        "# 2 For life or until learning is stopped\n",
        "for episode in range(total_episodes):\n",
        "    # Reset the environment\n",
        "    state = env.reset()\n",
        "    step = 0\n",
        "    done = False\n",
        "    total_rewards = 0\n",
        "\n",
        "    for step in range(max_steps):\n",
        "        # 3. Choose an action a in the current world state (s)\n",
        "        ## First we randomize a number\n",
        "        exp_exp_tradeoff = random.uniform(0, 1)\n",
        "\n",
        "        ## If this number > greater than epsilon --> exploitation (taking the biggest Q value for this state)\n",
        "        if exp_exp_tradeoff > epsilon:\n",
        "            action = np.argmax(qtable[state,:])\n",
        "            #print(exp_exp_tradeoff, \"action\", action)\n",
        "\n",
        "        # Else doing a random choice --> exploration\n",
        "        else:\n",
        "            action = env.action_space.sample()\n",
        "            #print(\"action random\", action)\n",
        "\n",
        "\n",
        "        # Take the action (a) and observe the outcome state(s') and reward (r)\n",
        "        new_state, reward, done, info = env.step(action)\n",
        "\n",
        "        # Update Q(s,a):= Q(s,a) + lr [R(s,a) + gamma * max Q(s',a') - Q(s,a)]\n",
        "        # qtable[new_state,:] : all the actions we can take from new state\n",
        "        qtable[state, action] = qtable[state, action] + learning_rate * (reward + gamma * np.max(qtable[new_state, :]) - qtable[state, action])\n",
        "\n",
        "        total_rewards += reward\n",
        "\n",
        "        # Our new state is state\n",
        "        state = new_state\n",
        "\n",
        "        # If done (if we're dead) : finish episode\n",
        "        if done == True:\n",
        "            break\n",
        "\n",
        "    # Reduce epsilon (because we need less and less exploration)\n",
        "    epsilon = min_epsilon + (max_epsilon - min_epsilon)*np.exp(-decay_rate*episode)\n",
        "    rewards.append(total_rewards)\n",
        "\n",
        "\n",
        "print (\"Pontuação no tempo: \" +  str(sum(rewards)/total_episodes))\n",
        "print(qtable)"
      ],
      "execution_count": 15,
      "outputs": [
        {
          "output_type": "stream",
          "name": "stdout",
          "text": [
            "Pontuação no tempo: 0.514278\n",
            "[[3.22547638e-01 6.24036500e-02 5.25059875e-02 5.98512583e-02]\n",
            " [3.36197170e-02 5.35046209e-03 1.23967949e-03 1.76986345e-01]\n",
            " [1.70978294e-02 4.34640233e-02 1.74164028e-02 2.40112841e-02]\n",
            " [4.13863189e-03 1.88466943e-03 7.61854745e-03 2.38824854e-02]\n",
            " [2.90682838e-01 1.11956132e-01 6.23416308e-02 4.99146192e-02]\n",
            " [0.00000000e+00 0.00000000e+00 0.00000000e+00 0.00000000e+00]\n",
            " [2.06111970e-02 1.59072620e-03 1.41083573e-04 3.25863965e-05]\n",
            " [0.00000000e+00 0.00000000e+00 0.00000000e+00 0.00000000e+00]\n",
            " [1.52875761e-01 3.26108954e-02 1.69641990e-02 7.08624388e-01]\n",
            " [4.56918539e-03 4.26825713e-01 1.89131614e-01 4.93091744e-02]\n",
            " [8.70034330e-02 1.50730889e-02 2.95943520e-03 6.66333500e-03]\n",
            " [0.00000000e+00 0.00000000e+00 0.00000000e+00 0.00000000e+00]\n",
            " [0.00000000e+00 0.00000000e+00 0.00000000e+00 0.00000000e+00]\n",
            " [3.62167323e-02 1.33389289e-01 7.10101638e-01 1.18636703e-01]\n",
            " [2.93379093e-01 9.85021587e-01 3.29093651e-01 2.62591017e-01]\n",
            " [0.00000000e+00 0.00000000e+00 0.00000000e+00 0.00000000e+00]]\n"
          ]
        }
      ]
    },
    {
      "metadata": {
        "id": "R5czk9qTBQIU"
      },
      "cell_type": "markdown",
      "source": [
        "## Etapa 5: Usando nossa tabela Q para jogar FrozenLake! 👾\n",
        "\n",
        "- Após 10.000 episódios, nossa tabela Q pode ser usada como uma \"folha de dicas\" para jogar FrozenLake\"\n",
        "- Ao executar este celular você poderá ver nosso agente jogando FrozenLake."
      ]
    },
    {
      "metadata": {
        "id": "Bt8UsREaBNkJ",
        "colab": {
          "base_uri": "https://localhost:8080/"
        },
        "outputId": "b6664f01-8df2-4f5a-b54d-075f58c60008"
      },
      "cell_type": "code",
      "source": [
        "env.reset()\n",
        "\n",
        "for episode in range(5):\n",
        "    state = env.reset()\n",
        "    step = 0\n",
        "    done = False\n",
        "    print(\"****************************************************\")\n",
        "    print(\"EPISODIO \", episode)\n",
        "\n",
        "    for step in range(max_steps):\n",
        "\n",
        "        # Take the action (index) that have the maximum expected future reward given that state\n",
        "        action = np.argmax(qtable[state,:])\n",
        "\n",
        "        new_state, reward, done, info = env.step(action)\n",
        "\n",
        "        if done:\n",
        "            # Here, we decide to only print the last state (to see if our agent is on the goal or fall into an hole)\n",
        "            env.render()\n",
        "            if new_state == 15:\n",
        "                print(\"Chegamos no Objetivo 🏆\")\n",
        "            else:\n",
        "                print(\"Caímos em um Obstáculo ☠️\")\n",
        "\n",
        "            # We print the number of step it took.\n",
        "            print(\"Número de passos\", step)\n",
        "\n",
        "            break\n",
        "        state = new_state\n",
        "env.close()"
      ],
      "execution_count": 16,
      "outputs": [
        {
          "output_type": "stream",
          "name": "stdout",
          "text": [
            "****************************************************\n",
            "EPISODIO  0\n",
            "Chegamos no Objetivo 🏆\n",
            "Número de passos 33\n",
            "****************************************************\n",
            "EPISODIO  1\n",
            "Chegamos no Objetivo 🏆\n",
            "Número de passos 51\n",
            "****************************************************\n",
            "EPISODIO  2\n",
            "Chegamos no Objetivo 🏆\n",
            "Número de passos 13\n",
            "****************************************************\n",
            "EPISODIO  3\n",
            "Caímos em um Obstáculo ☠️\n",
            "Número de passos 19\n",
            "****************************************************\n",
            "EPISODIO  4\n",
            "Chegamos no Objetivo 🏆\n",
            "Número de passos 45\n"
          ]
        }
      ]
    }
  ]
}