{
  "nbformat": 4,
  "nbformat_minor": 0,
  "metadata": {
    "colab": {
      "provenance": [],
      "gpuType": "T4"
    },
    "kernelspec": {
      "name": "python3",
      "display_name": "Python 3"
    },
    "accelerator": "GPU"
  },
  "cells": [
    {
      "cell_type": "markdown",
      "source": [
        "# Aula 2 - Reinforcement Learning\n",
        "\n",
        "## Tutorial: Q Learning no ambiente FrozenLake\n",
        "\n",
        "### Prof. Dr. Ahirton Lopes (profahirton.lopes@fiap.com.br)"
      ],
      "metadata": {
        "id": "9dudH0A8tzHW"
      }
    },
    {
      "metadata": {
        "id": "5aQKQMJTJBPH"
      },
      "cell_type": "markdown",
      "source": [
        "# Q* Learning com FrozenLake 4x4\n",
        "\n",
        "Neste Notebook, implementaremos um agente <b>que reproduz o desafio FrozenLake.</b>\n",
        "\n",
        "![texto alternativo](https://www.gymlibrary.dev/_images/frozen_lake.gif)\n",
        "\n",
        "O objetivo deste jogo é <b>passar do estado inicial (S) para o estado objetivo (G)</b> andando apenas sobre peças congeladas (F) e evitando buracos (H). No entanto, o gelo é escorregadio, **então você nem sempre se moverá na direção pretendida (ambiente estocástico)**"
      ]
    },
    {
      "metadata": {
        "id": "QK8fD0zAQkkg"
      },
      "cell_type": "markdown",
      "source": [
        "## Pré-requisitos 🏗️\n",
        "\n",
        "Antes de mergulhar no notebook **você precisa entender**:\n",
        "- Os fundamentos da aprendizagem por reforço (MC, TD, hipótese de recompensas...)\n",
        "- Q-aprendizagem"
      ]
    },
    {
      "metadata": {
        "id": "54AIvDov_7aa"
      },
      "cell_type": "markdown",
      "source": [
        "## Etapa 1: Instalando as dependências no Google Colab"
      ]
    },
    {
      "metadata": {
        "id": "gxxpHDIs_lvg",
        "colab": {
          "base_uri": "https://localhost:8080/"
        },
        "outputId": "82537b3a-003e-44fc-cf8f-7bc082420db9"
      },
      "cell_type": "code",
      "source": [
        "!pip install gymnasium\n",
        "!pip install numpy"
      ],
      "execution_count": 1,
      "outputs": [
        {
          "output_type": "stream",
          "name": "stdout",
          "text": [
            "Collecting gymnasium\n",
            "  Downloading gymnasium-1.0.0-py3-none-any.whl.metadata (9.5 kB)\n",
            "Requirement already satisfied: numpy>=1.21.0 in /usr/local/lib/python3.11/dist-packages (from gymnasium) (1.26.4)\n",
            "Requirement already satisfied: cloudpickle>=1.2.0 in /usr/local/lib/python3.11/dist-packages (from gymnasium) (3.1.1)\n",
            "Requirement already satisfied: typing-extensions>=4.3.0 in /usr/local/lib/python3.11/dist-packages (from gymnasium) (4.12.2)\n",
            "Collecting farama-notifications>=0.0.1 (from gymnasium)\n",
            "  Downloading Farama_Notifications-0.0.4-py3-none-any.whl.metadata (558 bytes)\n",
            "Downloading gymnasium-1.0.0-py3-none-any.whl (958 kB)\n",
            "\u001b[2K   \u001b[90m━━━━━━━━━━━━━━━━━━━━━━━━━━━━━━━━━━━━━━━━\u001b[0m \u001b[32m958.1/958.1 kB\u001b[0m \u001b[31m21.5 MB/s\u001b[0m eta \u001b[36m0:00:00\u001b[0m\n",
            "\u001b[?25hDownloading Farama_Notifications-0.0.4-py3-none-any.whl (2.5 kB)\n",
            "Installing collected packages: farama-notifications, gymnasium\n",
            "Successfully installed farama-notifications-0.0.4 gymnasium-1.0.0\n",
            "Requirement already satisfied: numpy in /usr/local/lib/python3.11/dist-packages (1.26.4)\n"
          ]
        }
      ]
    },
    {
      "metadata": {
        "id": "G9qH33L_QoBk"
      },
      "cell_type": "markdown",
      "source": [
        "## Etapa 0: Importando as dependências 📚\n",
        "\n",
        "Usamos 3 bibliotecas:\n",
        "\n",
        "- `Numpy` para nosso Qtable\n",
        "- `Gymnasium` para nosso ambiente FrozenLake\n",
        "- `Random` para gerar números aleatórios"
      ]
    },
    {
      "metadata": {
        "id": "oU8zRXv8QHlm"
      },
      "cell_type": "code",
      "source": [
        "import numpy as np\n",
        "import gymnasium as gym\n",
        "import random"
      ],
      "execution_count": 2,
      "outputs": []
    },
    {
      "metadata": {
        "id": "0fz-X3HTQueX"
      },
      "cell_type": "markdown",
      "source": [
        "## Passo 1: Criando o ambiente 🎮\n",
        "\n",
        "- Aqui criaremos o ambiente FrozenLake 8x8.\n",
        "- Gymnasium é uma biblioteca <b> composta por diversos ambientes que podemos usar para treinar nossos agentes.</b>\n",
        "- No nosso caso optamos por usar Frozen Lake."
      ]
    },
    {
      "metadata": {
        "id": "mh9jBR_cQ5_a"
      },
      "cell_type": "code",
      "source": [
        "env = gym.make(\"FrozenLake-v1\", desc=None, map_name=\"4x4\", is_slippery=True, render_mode=\"human\")"
      ],
      "execution_count": 3,
      "outputs": []
    },
    {
      "metadata": {
        "id": "JEtXMldxQ7uw"
      },
      "cell_type": "markdown",
      "source": [
        "## Etapa 2: Criando a tabela Q e inicializando-a 🗄️\n",
        "\n",
        "- Agora, vamos criar nossa Q-table, para saber de quantas linhas (estados) e colunas (ações) precisamos, precisamos calcular o action_size e o state_size\n",
        "- Gymnasium nos fornece uma maneira de fazer isso: `env.action_space.n` e `env.observation_space.n`"
      ]
    },
    {
      "metadata": {
        "id": "Uc0xDVd_Q-C8"
      },
      "cell_type": "code",
      "source": [
        "action_size = env.action_space.n\n",
        "state_size = env.observation_space.n"
      ],
      "execution_count": 4,
      "outputs": []
    },
    {
      "metadata": {
        "id": "17XBPCecAsZG",
        "colab": {
          "base_uri": "https://localhost:8080/"
        },
        "outputId": "3157d1a1-6d3b-4cf1-c53a-1ac530970a0e"
      },
      "cell_type": "code",
      "source": [
        "# Create our Q table with state_size rows and action_size columns (64x4)\n",
        "qtable = np.zeros((state_size, action_size))\n",
        "print(qtable)"
      ],
      "execution_count": 5,
      "outputs": [
        {
          "output_type": "stream",
          "name": "stdout",
          "text": [
            "[[0. 0. 0. 0.]\n",
            " [0. 0. 0. 0.]\n",
            " [0. 0. 0. 0.]\n",
            " [0. 0. 0. 0.]\n",
            " [0. 0. 0. 0.]\n",
            " [0. 0. 0. 0.]\n",
            " [0. 0. 0. 0.]\n",
            " [0. 0. 0. 0.]\n",
            " [0. 0. 0. 0.]\n",
            " [0. 0. 0. 0.]\n",
            " [0. 0. 0. 0.]\n",
            " [0. 0. 0. 0.]\n",
            " [0. 0. 0. 0.]\n",
            " [0. 0. 0. 0.]\n",
            " [0. 0. 0. 0.]\n",
            " [0. 0. 0. 0.]]\n"
          ]
        }
      ]
    },
    {
      "metadata": {
        "id": "WEGeWKKsAu7X"
      },
      "cell_type": "markdown",
      "source": [
        "## Etapa 3: Criando os hiperparâmetros ⚙️\n",
        "\n",
        "- Aqui, especificaremos os hiperparâmetros"
      ]
    },
    {
      "metadata": {
        "id": "FJhPxx7UAunE"
      },
      "cell_type": "code",
      "source": [
        "total_episodes = 500       # Total episodes\n",
        "learning_rate = 0.7          # Learning rate\n",
        "max_steps = 99               # Max steps per episode\n",
        "gamma = 0.95                 # Discounting rate\n",
        "\n",
        "# Exploration parameters\n",
        "epsilon = 1.0                 # Exploration rate\n",
        "max_epsilon = 1.0             # Exploration probability at start\n",
        "min_epsilon = 0.01            # Minimum exploration probability\n",
        "decay_rate = 0.005            # Exponential decay rate for exploration prob"
      ],
      "execution_count": 6,
      "outputs": []
    },
    {
      "metadata": {
        "id": "rcdaN_DbA3ES"
      },
      "cell_type": "markdown",
      "source": [
        "\n",
        "![texto alternativo](https://miro.medium.com/v2/resize:fit:1400/1*tyIE_430xbBRzrrjUdYLQw.png)\n"
      ]
    },
    {
      "cell_type": "markdown",
      "source": [
        "## Etapa 4: O algoritmo de aprendizagem Q 🧠\n",
        "\n",
        "- Agora implementamos o algoritmo de aprendizagem Q:\n"
      ],
      "metadata": {
        "id": "MwoFMGHxfJI2"
      }
    },
    {
      "metadata": {
        "id": "5Dqqo_8LA5De",
        "colab": {
          "base_uri": "https://localhost:8080/"
        },
        "outputId": "99b8bfe7-f00e-49bb-fda9-973ea116da72"
      },
      "cell_type": "code",
      "source": [
        "# List of rewards\n",
        "rewards = []\n",
        "\n",
        "# 2 For life or until learning is stopped\n",
        "for episode in range(total_episodes):\n",
        "    # Reset the environment\n",
        "    state, _ = env.reset()\n",
        "    state = int(state)\n",
        "    step = 0\n",
        "    done = False\n",
        "    total_rewards = 0\n",
        "\n",
        "    for step in range(max_steps):\n",
        "        # 3. Choose an action a in the current world state (s)\n",
        "        ## First we randomize a number\n",
        "        exp_exp_tradeoff = random.uniform(0, 1)\n",
        "\n",
        "        ## If this number > greater than epsilon --> exploitation (taking the biggest Q value for this state)\n",
        "        if exp_exp_tradeoff > epsilon:\n",
        "            action = np.argmax(qtable[state,:])\n",
        "            #print(exp_exp_tradeoff, \"action\", action)\n",
        "\n",
        "        # Else doing a random choice --> exploration\n",
        "        else:\n",
        "            action = env.action_space.sample()\n",
        "            #print(\"action random\", action)\n",
        "\n",
        "\n",
        "        # Take the action (a) and observe the outcome state(s') and reward (r)\n",
        "        new_state, reward, terminated, truncated, _ = env.step(action)\n",
        "        done = terminated or truncated\n",
        "\n",
        "        # Update Q(s,a):= Q(s,a) + lr [R(s,a) + gamma * max Q(s',a') - Q(s,a)]\n",
        "        # qtable[new_state,:] : all the actions we can take from new state\n",
        "        qtable[state, action] = qtable[state, action] + learning_rate * (reward + gamma * np.max(qtable[new_state, :]) - qtable[state, action])\n",
        "\n",
        "        total_rewards += reward\n",
        "\n",
        "        # Our new state is state\n",
        "        state = new_state\n",
        "\n",
        "        # If done (if we're dead) : finish episode\n",
        "        if done:\n",
        "            break\n",
        "\n",
        "    # Reduce epsilon (because we need less and less exploration)\n",
        "    epsilon = min_epsilon + (max_epsilon - min_epsilon)*np.exp(-decay_rate*episode)\n",
        "    rewards.append(total_rewards)\n",
        "\n",
        "\n",
        "print (\"Pontuação no tempo: \" +  str(sum(rewards)/total_episodes))\n",
        "print(qtable)"
      ],
      "execution_count": 7,
      "outputs": [
        {
          "output_type": "stream",
          "name": "stdout",
          "text": [
            "Pontuação no tempo: 0.066\n",
            "[[1.42206755e-01 1.42749721e-01 1.47819383e-01 8.79129329e-02]\n",
            " [3.91908243e-02 1.91711770e-02 2.10721563e-02 5.78597804e-02]\n",
            " [4.24972861e-02 3.82009692e-02 4.05331992e-02 3.95196777e-02]\n",
            " [3.07498333e-02 4.45504972e-03 8.14724307e-03 3.69286210e-02]\n",
            " [1.71734300e-01 4.37909887e-02 1.47757856e-01 1.10047758e-01]\n",
            " [0.00000000e+00 0.00000000e+00 0.00000000e+00 0.00000000e+00]\n",
            " [5.28984014e-02 4.00015322e-03 4.73139915e-04 2.55574906e-03]\n",
            " [0.00000000e+00 0.00000000e+00 0.00000000e+00 0.00000000e+00]\n",
            " [5.34688028e-02 7.86954259e-02 1.23756821e-01 2.85913980e-01]\n",
            " [1.97841165e-01 3.87385114e-01 2.94348589e-02 1.58841010e-01]\n",
            " [2.57098521e-01 2.20074686e-02 6.65491122e-02 6.99023811e-03]\n",
            " [0.00000000e+00 0.00000000e+00 0.00000000e+00 0.00000000e+00]\n",
            " [0.00000000e+00 0.00000000e+00 0.00000000e+00 0.00000000e+00]\n",
            " [3.21654153e-01 0.00000000e+00 6.91746917e-01 0.00000000e+00]\n",
            " [3.96665525e-01 4.91705894e-01 7.76507620e-01 3.93889334e-01]\n",
            " [0.00000000e+00 0.00000000e+00 0.00000000e+00 0.00000000e+00]]\n"
          ]
        }
      ]
    },
    {
      "metadata": {
        "id": "R5czk9qTBQIU"
      },
      "cell_type": "markdown",
      "source": [
        "## Etapa 5: Usando nossa tabela Q para jogar FrozenLake! 👾\n",
        "\n",
        "- Após 10.000 episódios, nossa tabela Q pode ser usada como uma \"folha de dicas\" para jogar FrozenLake\"\n",
        "- Ao executar este celular você poderá ver nosso agente jogando FrozenLake."
      ]
    },
    {
      "metadata": {
        "id": "Bt8UsREaBNkJ",
        "colab": {
          "base_uri": "https://localhost:8080/"
        },
        "outputId": "bb59c644-ff84-4db1-c44d-e2a464673399"
      },
      "cell_type": "code",
      "source": [
        "for episode in range(5):\n",
        "    state, info = env.reset()\n",
        "    state = int(state)\n",
        "    step = 0\n",
        "    done = False\n",
        "    max_steps = 100\n",
        "    print(\"****************************************************\")\n",
        "    print(\"EPISODIO \", episode)\n",
        "\n",
        "    for step in range(max_steps):\n",
        "\n",
        "        # Take the action (index) that have the maximum expected future reward given that state\n",
        "        action = np.argmax(qtable[state,:])\n",
        "\n",
        "        new_state, reward, terminated, truncated, _ = env.step(action)\n",
        "\n",
        "        done = terminated or truncated\n",
        "\n",
        "        if done:\n",
        "            # Here, we decide to only print the last state (to see if our agent is on the goal or fall into an hole)\n",
        "            env.render()\n",
        "            if new_state == 15:\n",
        "                print(\"Chegamos no Objetivo 🏆\")\n",
        "            else:\n",
        "                print(\"Caímos em um Obstáculo ☠️\")\n",
        "\n",
        "            # We print the number of step it took.\n",
        "            print(\"Número de passos\", step)\n",
        "\n",
        "            break\n",
        "        state = int(new_state)\n",
        "env.close()"
      ],
      "execution_count": 8,
      "outputs": [
        {
          "output_type": "stream",
          "name": "stdout",
          "text": [
            "****************************************************\n",
            "EPISODIO  0\n",
            "Caímos em um Obstáculo ☠️\n",
            "Número de passos 42\n",
            "****************************************************\n",
            "EPISODIO  1\n",
            "Chegamos no Objetivo 🏆\n",
            "Número de passos 47\n",
            "****************************************************\n",
            "EPISODIO  2\n",
            "Chegamos no Objetivo 🏆\n",
            "Número de passos 45\n",
            "****************************************************\n",
            "EPISODIO  3\n",
            "Caímos em um Obstáculo ☠️\n",
            "Número de passos 4\n",
            "****************************************************\n",
            "EPISODIO  4\n",
            "Chegamos no Objetivo 🏆\n",
            "Número de passos 20\n"
          ]
        }
      ]
    }
  ]
}